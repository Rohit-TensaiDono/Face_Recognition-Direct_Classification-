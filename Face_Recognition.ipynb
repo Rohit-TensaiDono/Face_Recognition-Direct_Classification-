{
 "cells": [
  {
   "cell_type": "code",
   "execution_count": 29,
   "metadata": {},
   "outputs": [],
   "source": [
    "import cv2\n",
    "import face_recognition"
   ]
  },
  {
   "cell_type": "code",
   "execution_count": 30,
   "metadata": {},
   "outputs": [],
   "source": [
    "# Load known faces and their names\n",
    "known_faces_encodings = []\n",
    "known_faces_names = []"
   ]
  },
  {
   "cell_type": "code",
   "execution_count": 31,
   "metadata": {},
   "outputs": [],
   "source": [
    "# Function to add known faces and their encodings from image files\n",
    "def add_known_face_from_image(image_path, name):\n",
    "    # Load the image\n",
    "    image = face_recognition.load_image_file(image_path)\n",
    "\n",
    "    # Find all face encodings in the image\n",
    "    face_encodings = face_recognition.face_encodings(image)\n",
    "\n",
    "    if len(face_encodings) == 0:\n",
    "        print(f\"No face found in the image: {image_path}\")\n",
    "        return\n",
    "\n",
    "    # Use only the first face found in the image\n",
    "    face_encoding = face_encodings[0]\n",
    "\n",
    "    # Add the face encoding and the corresponding name to the database\n",
    "    known_faces_encodings.append(face_encoding)\n",
    "    known_faces_names.append(name)\n",
    "    print(f\"Face encoding added for {name}.\")"
   ]
  },
  {
   "cell_type": "code",
   "execution_count": 38,
   "metadata": {},
   "outputs": [
    {
     "name": "stdout",
     "output_type": "stream",
     "text": [
      "Face encoding added for Tensai Sir.\n",
      "Face encoding added for Billi Uncle.\n",
      "Face encoding added for Elon bhaiya.\n",
      "Face encoding added for Mark broo.\n",
      "Face encoding added for Ashish.\n",
      "Face encoding added for Mulla Maghiya.\n"
     ]
    }
   ],
   "source": [
    "# Add known faces to the database from image files\n",
    "add_known_face_from_image(\"1Rohit_Tensai.jpg\", \"Tensai Sir\")\n",
    "add_known_face_from_image(\"BillGates.jpg\", \"Billi Uncle\")\n",
    "add_known_face_from_image(\"elon.jpg\", \"Elon bhaiya\")\n",
    "add_known_face_from_image(\"mark_zuckerberg.jpg\", \"Mark broo\")\n",
    "add_known_face_from_image(\"asish.jpg\", \"Ashish\")\n",
    "add_known_face_from_image(\"sukutta.jpg\", \"subhankar\")"
   ]
  },
  {
   "cell_type": "code",
   "execution_count": 37,
   "metadata": {},
   "outputs": [],
   "source": [
    "# Initialize some variables\n",
    "face_locations = []\n",
    "face_encodings = []\n",
    "face_names = []\n",
    "process_this_frame = True\n",
    "\n",
    "# Capture video from the webcam\n",
    "video_capture = cv2.VideoCapture(0)\n",
    "\n",
    "while True:\n",
    "    # Capture frame-by-frame\n",
    "    ret, frame = video_capture.read()\n",
    "\n",
    "    # Resize frame to speed up face recognition\n",
    "    small_frame = cv2.resize(frame, (0, 0), fx=0.25, fy=0.25)\n",
    "\n",
    "    # Convert the image from BGR color (OpenCV) to RGB color (face_recognition)\n",
    "    rgb_small_frame = cv2.cvtColor(small_frame, cv2.COLOR_BGR2RGB)\n",
    "\n",
    "    # Only process every other frame to speed up face recognition\n",
    "    if process_this_frame:\n",
    "        # Find all face locations and face encodings in the current frame\n",
    "        face_locations = face_recognition.face_locations(rgb_small_frame)\n",
    "        face_encodings = face_recognition.face_encodings(rgb_small_frame, face_locations)\n",
    "\n",
    "        face_names = []\n",
    "        for face_encoding in face_encodings:\n",
    "            # Compare each face in the current frame with known faces in the database\n",
    "            matches = face_recognition.compare_faces(known_faces_encodings, face_encoding)\n",
    "            name = \"Unknown\"\n",
    "\n",
    "            # Check if any known face matches\n",
    "            if True in matches:\n",
    "                first_match_index = matches.index(True)\n",
    "                name = known_faces_names[first_match_index]\n",
    "\n",
    "            face_names.append(name)\n",
    "\n",
    "    process_this_frame = not process_this_frame\n",
    "\n",
    "    # Display the results\n",
    "    for (top, right, bottom, left), name in zip(face_locations, face_names):\n",
    "        # Scale back up face locations since we scaled down the frame\n",
    "        top *= 4\n",
    "        right *= 4\n",
    "        bottom *= 4\n",
    "        left *= 4\n",
    "\n",
    "        # Draw a box around the face\n",
    "        cv2.rectangle(frame, (left, top), (right, bottom), (0, 0, 255), 2)\n",
    "\n",
    "        # Draw a label with the name below the face\n",
    "        cv2.rectangle(frame, (left, bottom - 35), (right, bottom), (0, 0, 255), cv2.FILLED)\n",
    "        font = cv2.FONT_HERSHEY_DUPLEX\n",
    "        cv2.putText(frame, name, (left + 6, bottom - 6), font, 0.8, (255, 255, 255), 1)\n",
    "\n",
    "    # Display the resulting image\n",
    "    cv2.imshow('Security Check', frame)\n",
    "\n",
    "    # Break the loop when 'q' is pressed\n",
    "    if cv2.waitKey(1) & 0xFF == ord('q'):\n",
    "        break\n",
    "\n",
    "# Release the video capture object\n",
    "video_capture.release()\n",
    "cv2.destroyAllWindows()"
   ]
  },
  {
   "cell_type": "code",
   "execution_count": null,
   "metadata": {},
   "outputs": [],
   "source": []
  }
 ],
 "metadata": {
  "kernelspec": {
   "display_name": "Python 3",
   "language": "python",
   "name": "python3"
  },
  "language_info": {
   "codemirror_mode": {
    "name": "ipython",
    "version": 3
   },
   "file_extension": ".py",
   "mimetype": "text/x-python",
   "name": "python",
   "nbconvert_exporter": "python",
   "pygments_lexer": "ipython3",
   "version": "3.8.3"
  }
 },
 "nbformat": 4,
 "nbformat_minor": 4
}
